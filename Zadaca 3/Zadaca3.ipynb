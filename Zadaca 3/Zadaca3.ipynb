{
 "cells": [
  {
   "cell_type": "markdown",
   "metadata": {},
   "source": [
    "# Vještačka inteligencija - Vježbe 4 - Zadaća 3"
   ]
  },
  {
   "cell_type": "markdown",
   "metadata": {},
   "source": [
    "## Zadatak br. 1"
   ]
  },
  {
   "cell_type": "markdown",
   "metadata": {},
   "source": [
    "### Svjetska Banka želi da donese odluku o tome da li je novopredloženi projekat isplativ za realizaciju:\n",
    "* Na osnovu slučajeva iz prošlosti prikazani na slici 1 treba napraviti klasifikacioni model koristeći algoritam Naivnog Bajesa.\n",
    "* Istu tabelu iskoristiti i primjeniti stablo odlučivanja.\n",
    "### U oba slučaja provjeriti koja će se donijeti odluka."
   ]
  },
  {
   "cell_type": "markdown",
   "metadata": {},
   "source": [
    "![alt text](Slika1.png \"Slika 1\")"
   ]
  },
  {
   "cell_type": "code",
   "execution_count": 76,
   "metadata": {},
   "outputs": [
    {
     "name": "stdout",
     "output_type": "stream",
     "text": [
      "Podaci su konvertovani i spremljeni u novi CSV\n"
     ]
    }
   ],
   "source": [
    "# Konverzcija string podataka u numericke vrijednosti (kategorije)\n",
    "\n",
    "from convert import convert_csv\n",
    "\n",
    "input_csv = 'Zadatak1_RawData.csv'\n",
    "output_csv = 'Zadatak1_Data.csv'\n",
    "\n",
    "convert_csv(input_csv, output_csv)"
   ]
  },
  {
   "cell_type": "code",
   "execution_count": 77,
   "metadata": {},
   "outputs": [],
   "source": [
    "import numpy as np\n",
    "import matplotlib.pyplot as plt\n",
    "import pandas as pd\n",
    "from sklearn.model_selection import train_test_split\n",
    "from sklearn.preprocessing import StandardScaler\n",
    "from sklearn.tree import DecisionTreeClassifier\n",
    "from sklearn.metrics import confusion_matrix, accuracy_score\n",
    "from sklearn.naive_bayes import GaussianNB"
   ]
  },
  {
   "cell_type": "code",
   "execution_count": 78,
   "metadata": {},
   "outputs": [
    {
     "name": "stdout",
     "output_type": "stream",
     "text": [
      "Ucitani podaci\n",
      "[[0 0 0 0]\n",
      " [1 1 1 0]\n",
      " [0 2 0 1]\n",
      " [1 0 1 1]\n",
      " [0 1 0 0]\n",
      " [1 2 1 0]\n",
      " [0 0 0 1]\n",
      " [1 1 1 1]\n",
      " [0 2 0 0]\n",
      " [1 0 1 0]\n",
      " [0 1 0 1]\n",
      " [1 2 1 1]\n",
      " [0 0 0 0]\n",
      " [1 1 1 0]\n",
      " [0 2 0 1]]\n",
      "Ucitani rezultati\n",
      "[0 0 1 1 0 0 1 1 0 0 1 0 0 0 1]\n"
     ]
    }
   ],
   "source": [
    "# Ucitavanje i razdvajanje na podatke i rezultate\n",
    "\n",
    "dataset = pd.read_csv('Zadatak1_Data.csv')\n",
    "podaci = dataset.iloc[:, :-1].values\n",
    "rezultat = dataset.iloc[:, -1].values\n",
    "\n",
    "print('Ucitani podaci')\n",
    "print(podaci)\n",
    "print('Ucitani rezultati')\n",
    "print(rezultat)"
   ]
  },
  {
   "cell_type": "code",
   "execution_count": 79,
   "metadata": {},
   "outputs": [
    {
     "name": "stdout",
     "output_type": "stream",
     "text": [
      "Podaci TRAIN\n",
      "[[0 2 0 1]\n",
      " [0 1 0 0]\n",
      " [0 2 0 1]\n",
      " [1 1 1 0]\n",
      " [0 1 0 1]\n",
      " [1 1 1 1]\n",
      " [1 2 1 1]\n",
      " [1 0 1 1]\n",
      " [0 0 0 0]\n",
      " [1 2 1 0]\n",
      " [0 0 0 0]]\n",
      "Podaci TEST\n",
      "[[1 1 1 0]\n",
      " [0 0 0 1]\n",
      " [0 2 0 0]\n",
      " [1 0 1 0]]\n",
      "Rezultat TRAIN\n",
      "[1 0 1 0 1 1 0 1 0 0 0]\n",
      "Rezultat TEST\n",
      "[0 1 0 0]\n"
     ]
    }
   ],
   "source": [
    "# Podjela podataka i rezultata u TRAIN i TEST (25%)\n",
    "\n",
    "podaci_train, podaci_test, rezultat_train, rezultat_test = train_test_split(podaci, rezultat, test_size = 0.25,random_state = 0)\n",
    "\n",
    "print(\"Podaci TRAIN\")\n",
    "print(podaci_train)\n",
    "print(\"Podaci TEST\")\n",
    "print(podaci_test)\n",
    "\n",
    "print(\"Rezultat TRAIN\")\n",
    "print(rezultat_train)\n",
    "print(\"Rezultat TEST\")\n",
    "print(rezultat_test)"
   ]
  },
  {
   "cell_type": "code",
   "execution_count": 80,
   "metadata": {},
   "outputs": [
    {
     "name": "stdout",
     "output_type": "stream",
     "text": [
      "Transformisani Podaci TRAIN\n",
      "[[-0.91287093  1.14707867 -0.91287093  0.91287093]\n",
      " [-0.91287093 -0.11470787 -0.91287093 -1.09544512]\n",
      " [-0.91287093  1.14707867 -0.91287093  0.91287093]\n",
      " [ 1.09544512 -0.11470787  1.09544512 -1.09544512]\n",
      " [-0.91287093 -0.11470787 -0.91287093  0.91287093]\n",
      " [ 1.09544512 -0.11470787  1.09544512  0.91287093]\n",
      " [ 1.09544512  1.14707867  1.09544512  0.91287093]\n",
      " [ 1.09544512 -1.3764944   1.09544512  0.91287093]\n",
      " [-0.91287093 -1.3764944  -0.91287093 -1.09544512]\n",
      " [ 1.09544512  1.14707867  1.09544512 -1.09544512]\n",
      " [-0.91287093 -1.3764944  -0.91287093 -1.09544512]]\n",
      "Transformisani Podaci TEST\n",
      "[[ 1.09544512 -0.11470787  1.09544512 -1.09544512]\n",
      " [-0.91287093 -1.3764944  -0.91287093  0.91287093]\n",
      " [-0.91287093  1.14707867 -0.91287093 -1.09544512]\n",
      " [ 1.09544512 -1.3764944   1.09544512 -1.09544512]]\n"
     ]
    }
   ],
   "source": [
    "# Skaliranje i transformacija TRAIN i TEST podataka\n",
    "\n",
    "sc = StandardScaler()\n",
    "podaci_train = sc.fit_transform(podaci_train)\n",
    "podaci_test = sc.transform(podaci_test)\n",
    "\n",
    "print(\"Transformisani Podaci TRAIN\")\n",
    "print(podaci_train)\n",
    "print(\"Transformisani Podaci TEST\")\n",
    "print(podaci_test)"
   ]
  },
  {
   "cell_type": "markdown",
   "metadata": {},
   "source": [
    "### Decision Tree"
   ]
  },
  {
   "cell_type": "code",
   "execution_count": 81,
   "metadata": {},
   "outputs": [
    {
     "name": "stdout",
     "output_type": "stream",
     "text": [
      "Predvidjanje rezultata\n",
      "[[0 0]\n",
      " [1 1]\n",
      " [0 0]\n",
      " [0 0]]\n",
      "Konfuzijska matrica\n",
      "[[3 0]\n",
      " [0 1]]\n",
      "Preziznost\n",
      "1.0\n"
     ]
    }
   ],
   "source": [
    "# Treniranje i predikcija rezultata za Decision Tree\n",
    "\n",
    "classifier = DecisionTreeClassifier(criterion='entropy', random_state=0)\n",
    "classifier.fit(podaci_train, rezultat_train)\n",
    "\n",
    "rezultat_predict = classifier.predict(podaci_test)\n",
    "print(\"Predvidjanje rezultata\")\n",
    "print(np.concatenate((rezultat_predict.reshape(len(rezultat_predict), 1), rezultat_test.reshape(len(rezultat_test), 1)), 1))\n",
    "\n",
    "cm = confusion_matrix(rezultat_test, rezultat_predict)\n",
    "print(\"Konfuzijska matrica\")\n",
    "print(cm)\n",
    "\n",
    "ac = accuracy_score(rezultat_test, rezultat_predict)\n",
    "print(\"Preziznost\")\n",
    "print(ac)"
   ]
  },
  {
   "cell_type": "markdown",
   "metadata": {},
   "source": [
    "### Naive Bayes"
   ]
  },
  {
   "cell_type": "code",
   "execution_count": 82,
   "metadata": {},
   "outputs": [
    {
     "name": "stdout",
     "output_type": "stream",
     "text": [
      "Predvidjanje rezultata\n",
      "[[0 0]\n",
      " [1 1]\n",
      " [0 0]\n",
      " [0 0]]\n",
      "Konfuzijska matrica\n",
      "[[3 0]\n",
      " [0 1]]\n",
      "Preziznost\n",
      "1.0\n"
     ]
    }
   ],
   "source": [
    "# Treniranje i predikcija rezultata za Naive Bayes\n",
    "\n",
    "classifier = GaussianNB()\n",
    "classifier.fit(podaci_train, rezultat_train)\n",
    "\n",
    "rezultat_predict = classifier.predict(podaci_test)\n",
    "print(\"Predvidjanje rezultata\")\n",
    "print(np.concatenate((rezultat_predict.reshape(len(rezultat_predict), 1), rezultat_test.reshape(len(rezultat_test), 1)), 1))\n",
    "\n",
    "cm = confusion_matrix(rezultat_test, rezultat_predict)\n",
    "print(\"Konfuzijska matrica\")\n",
    "print(cm)\n",
    "\n",
    "ac = accuracy_score(rezultat_test, rezultat_predict)\n",
    "print(\"Preziznost\")\n",
    "print(ac)"
   ]
  },
  {
   "cell_type": "markdown",
   "metadata": {},
   "source": [
    "## Zadatak br. 2"
   ]
  },
  {
   "cell_type": "markdown",
   "metadata": {},
   "source": [
    "### Suad je u dilemi. Treba da stigne do fakulteta na vježbe iz \"Vještačke inteligencije\", ali kako je saobraćaj u Sarajevu nepredvidiv, često mu se dogodi da kasni. Kako bi izbjegao kašnjenje, pokušaće da koristi znanje iz prošlosti da predvidi da li treba da krene ranije nego obično. Napisao je situacije iz prošlosti prikazane na slici 2.\n",
    "* Napravite drvo odlučivanja koje će Suadu pomoći u donošenju odluke.\n",
    "* Napravite Naive Bayes model koje će Suadu pomoći u donošenju odluke.\n",
    "### U oba slučaja provjeriti koja će se donijeti odluka."
   ]
  },
  {
   "cell_type": "markdown",
   "metadata": {},
   "source": [
    "![alt text](Slika2.png \"Slika 2\")"
   ]
  },
  {
   "cell_type": "code",
   "execution_count": 83,
   "metadata": {},
   "outputs": [
    {
     "name": "stdout",
     "output_type": "stream",
     "text": [
      "Podaci su konvertovani i spremljeni u novi CSV\n"
     ]
    }
   ],
   "source": [
    "# Konverzcija string podataka u numericke vrijednosti (kategorije)\n",
    "\n",
    "input_csv = 'Zadatak2_RawData.csv'\n",
    "output_csv = 'Zadatak2_Data.csv'\n",
    "\n",
    "convert_csv(input_csv, output_csv)"
   ]
  },
  {
   "cell_type": "code",
   "execution_count": 84,
   "metadata": {},
   "outputs": [
    {
     "name": "stdout",
     "output_type": "stream",
     "text": [
      "Ucitani podaci\n",
      "[[0 0 0]\n",
      " [1 1 1]\n",
      " [2 1 2]\n",
      " [3 0 2]\n",
      " [4 0 0]\n",
      " [5 1 2]\n",
      " [6 0 1]\n",
      " [0 0 0]\n",
      " [1 1 2]\n",
      " [5 1 1]\n",
      " [2 1 0]\n",
      " [4 0 2]\n",
      " [3 0 1]\n",
      " [0 0 0]\n",
      " [1 0 2]\n",
      " [6 1 2]\n",
      " [1 0 2]]\n",
      "Ucitani rezultati\n",
      "[0 1 2 0 1 2 0 1 2 0 1 2 0 1 2 2 2]\n"
     ]
    }
   ],
   "source": [
    "# Ucitavanje i razdvajanje na podatke i rezultate\n",
    "\n",
    "dataset = pd.read_csv('Zadatak2_Data.csv')\n",
    "podaci = dataset.iloc[:, :-1].values\n",
    "rezultat = dataset.iloc[:, -1].values\n",
    "\n",
    "print('Ucitani podaci')\n",
    "print(podaci)\n",
    "print('Ucitani rezultati')\n",
    "print(rezultat)"
   ]
  },
  {
   "cell_type": "code",
   "execution_count": 85,
   "metadata": {},
   "outputs": [
    {
     "name": "stdout",
     "output_type": "stream",
     "text": [
      "Podaci TRAIN\n",
      "[[4 0 0]\n",
      " [2 1 2]\n",
      " [1 0 2]\n",
      " [2 1 0]\n",
      " [0 0 0]\n",
      " [1 0 2]\n",
      " [4 0 2]\n",
      " [3 0 2]\n",
      " [0 0 0]\n",
      " [5 1 2]\n",
      " [6 1 2]\n",
      " [3 0 1]]\n",
      "Podaci TEST\n",
      "[[1 1 1]\n",
      " [6 0 1]\n",
      " [1 1 2]\n",
      " [5 1 1]\n",
      " [0 0 0]]\n",
      "Rezultat TRAIN\n",
      "[1 2 2 1 1 2 2 0 0 2 2 0]\n",
      "Rezultat TEST\n",
      "[1 0 2 0 1]\n"
     ]
    }
   ],
   "source": [
    "# Podjela podataka i rezultata u TRAIN i TEST (25%)\n",
    "\n",
    "podaci_train, podaci_test, rezultat_train, rezultat_test = train_test_split(podaci, rezultat, test_size = 0.25,random_state = 0)\n",
    "\n",
    "print(\"Podaci TRAIN\")\n",
    "print(podaci_train)\n",
    "print(\"Podaci TEST\")\n",
    "print(podaci_test)\n",
    "\n",
    "print(\"Rezultat TRAIN\")\n",
    "print(rezultat_train)\n",
    "print(\"Rezultat TEST\")\n",
    "print(rezultat_test)"
   ]
  },
  {
   "cell_type": "code",
   "execution_count": 86,
   "metadata": {},
   "outputs": [
    {
     "name": "stdout",
     "output_type": "stream",
     "text": [
      "Transformisani Podaci TRAIN\n",
      "[[ 0.76719926 -0.70710678 -1.35250445]\n",
      " [-0.31590558  1.41421356  0.81150267]\n",
      " [-0.857458   -0.70710678  0.81150267]\n",
      " [-0.31590558  1.41421356 -1.35250445]\n",
      " [-1.39901042 -0.70710678 -1.35250445]\n",
      " [-0.857458   -0.70710678  0.81150267]\n",
      " [ 0.76719926 -0.70710678  0.81150267]\n",
      " [ 0.22564684 -0.70710678  0.81150267]\n",
      " [-1.39901042 -0.70710678 -1.35250445]\n",
      " [ 1.30875168  1.41421356  0.81150267]\n",
      " [ 1.8503041   1.41421356  0.81150267]\n",
      " [ 0.22564684 -0.70710678 -0.27050089]]\n",
      "Transformisani Podaci TEST\n",
      "[[-0.857458    1.41421356 -0.27050089]\n",
      " [ 1.8503041  -0.70710678 -0.27050089]\n",
      " [-0.857458    1.41421356  0.81150267]\n",
      " [ 1.30875168  1.41421356 -0.27050089]\n",
      " [-1.39901042 -0.70710678 -1.35250445]]\n"
     ]
    }
   ],
   "source": [
    "# Skaliranje i transformacija TRAIN i TEST podataka\n",
    "\n",
    "sc = StandardScaler()\n",
    "podaci_train = sc.fit_transform(podaci_train)\n",
    "podaci_test = sc.transform(podaci_test)\n",
    "\n",
    "print(\"Transformisani Podaci TRAIN\")\n",
    "print(podaci_train)\n",
    "print(\"Transformisani Podaci TEST\")\n",
    "print(podaci_test)"
   ]
  },
  {
   "cell_type": "markdown",
   "metadata": {},
   "source": [
    "### Decision Tree"
   ]
  },
  {
   "cell_type": "code",
   "execution_count": 87,
   "metadata": {},
   "outputs": [
    {
     "name": "stdout",
     "output_type": "stream",
     "text": [
      "Predvidjanje rezultata\n",
      "[[0 1]\n",
      " [0 0]\n",
      " [2 2]\n",
      " [0 0]\n",
      " [0 1]]\n",
      "Konfuzijska matrica\n",
      "[[2 0 0]\n",
      " [2 0 0]\n",
      " [0 0 1]]\n",
      "Preziznost\n",
      "0.6\n"
     ]
    }
   ],
   "source": [
    "# Treniranje i predikcija rezultata za Decision Tree\n",
    "\n",
    "classifier = DecisionTreeClassifier(criterion='entropy', random_state=0)\n",
    "classifier.fit(podaci_train, rezultat_train)\n",
    "\n",
    "rezultat_predict = classifier.predict(podaci_test)\n",
    "print(\"Predvidjanje rezultata\")\n",
    "print(np.concatenate((rezultat_predict.reshape(len(rezultat_predict), 1), rezultat_test.reshape(len(rezultat_test), 1)), 1))\n",
    "\n",
    "cm = confusion_matrix(rezultat_test, rezultat_predict)\n",
    "print(\"Konfuzijska matrica\")\n",
    "print(cm)\n",
    "\n",
    "ac = accuracy_score(rezultat_test, rezultat_predict)\n",
    "print(\"Preziznost\")\n",
    "print(ac)"
   ]
  },
  {
   "cell_type": "markdown",
   "metadata": {},
   "source": [
    "### Naive Bayes"
   ]
  },
  {
   "cell_type": "code",
   "execution_count": 88,
   "metadata": {},
   "outputs": [
    {
     "name": "stdout",
     "output_type": "stream",
     "text": [
      "Predvidjanje rezultata\n",
      "[[2 1]\n",
      " [0 0]\n",
      " [2 2]\n",
      " [2 0]\n",
      " [1 1]]\n",
      "Konfuzijska matrica\n",
      "[[1 0 1]\n",
      " [0 1 1]\n",
      " [0 0 1]]\n",
      "Preziznost\n",
      "0.6\n"
     ]
    }
   ],
   "source": [
    "# Treniranje i predikcija rezultata za Naive Bayes\n",
    "\n",
    "classifier = GaussianNB()\n",
    "classifier.fit(podaci_train, rezultat_train)\n",
    "\n",
    "rezultat_predict = classifier.predict(podaci_test)\n",
    "print(\"Predvidjanje rezultata\")\n",
    "print(np.concatenate((rezultat_predict.reshape(len(rezultat_predict), 1), rezultat_test.reshape(len(rezultat_test), 1)), 1))\n",
    "\n",
    "cm = confusion_matrix(rezultat_test, rezultat_predict)\n",
    "print(\"Konfuzijska matrica\")\n",
    "print(cm)\n",
    "\n",
    "ac = accuracy_score(rezultat_test, rezultat_predict)\n",
    "print(\"Preziznost\")\n",
    "print(ac)"
   ]
  }
 ],
 "metadata": {
  "kernelspec": {
   "display_name": "Python 3",
   "language": "python",
   "name": "python3"
  },
  "language_info": {
   "codemirror_mode": {
    "name": "ipython",
    "version": 3
   },
   "file_extension": ".py",
   "mimetype": "text/x-python",
   "name": "python",
   "nbconvert_exporter": "python",
   "pygments_lexer": "ipython3",
   "version": "3.10.0"
  }
 },
 "nbformat": 4,
 "nbformat_minor": 2
}
