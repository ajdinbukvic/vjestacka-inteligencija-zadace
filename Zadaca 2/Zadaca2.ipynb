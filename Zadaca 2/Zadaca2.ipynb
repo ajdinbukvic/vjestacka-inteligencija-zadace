{
 "cells": [
  {
   "cell_type": "markdown",
   "metadata": {},
   "source": [
    "# Vještačka inteligencija - Vježbe 3 - Zadaća 2"
   ]
  },
  {
   "cell_type": "markdown",
   "metadata": {},
   "source": [
    "## Zadatak br. 1"
   ]
  },
  {
   "cell_type": "markdown",
   "metadata": {},
   "source": [
    "### Na osnovu primjera detekcije QR koda, testirati i detekciju barkoda, te kao rezultat na izlazu treba da prikaže detektovani barkod."
   ]
  },
  {
   "cell_type": "code",
   "execution_count": 34,
   "metadata": {},
   "outputs": [
    {
     "name": "stdout",
     "output_type": "stream",
     "text": [
      "Barcode type: CODE128\n",
      "Barcode data: Ajdin Bukvic\n"
     ]
    }
   ],
   "source": [
    "from pyzbar import pyzbar\n",
    "import cv2\n",
    "\n",
    "# read barcode\n",
    "image = cv2.imread('barcode.jpg')\n",
    "\n",
    "# show barcode\n",
    "cv2.imshow(\"Image\", image)\n",
    "cv2.waitKey(0)\n",
    "\n",
    "# find barcodes and decode barcodes\n",
    "barcodes = pyzbar.decode(image)\n",
    "\n",
    "# print message if barcode is wrong\n",
    "if not barcodes:\n",
    "  print(\"Barcode can not be detected.\")\n",
    "else:\n",
    "  # loop over decoded barcodes\n",
    "  for barcode in barcodes:\n",
    "      # get barcode location parameters\n",
    "      (x, y, w, h) = barcode.rect\n",
    "      # draw blue rectangle over barcode\n",
    "      cv2.rectangle(image, (x, y), (x + w, y + h), (255, 0, 0), 2)\n",
    "      # convert decoded barcode to text\n",
    "      barcode_data = barcode.data.decode(\"utf-8\")\n",
    "      barcode_type = barcode.type\n",
    "      # format text containing barcode data and type\n",
    "      text = \"{} ({})\".format(barcode_data, barcode_type)\n",
    "      # put red text on new generated image\n",
    "      cv2.putText(image, text, (x+10, y+120), 0, 0.5, (0, 0, 255), 1)\n",
    "      # open new image window\n",
    "      cv2.namedWindow(\"Image\", cv2.WINDOW_NORMAL)\n",
    "      # show new image\n",
    "      cv2.imshow(\"Image\", image)\n",
    "      # change windows resolution\n",
    "      cv2.resizeWindow(\"Image\", 800, 600)  \n",
    "      cv2.waitKey(0)\n",
    "      # print barcode data and type in terminal\n",
    "      print(f\"Barcode type: {barcode_type}\")\n",
    "      print(f\"Barcode data: {barcode_data}\")\n",
    "      # save decoded barcode image\n",
    "      cv2.imwrite(\"decoded_barcode.jpg\", image)\n",
    "      cv2.destroyAllWindows()"
   ]
  },
  {
   "cell_type": "markdown",
   "metadata": {},
   "source": [
    "## Zadatak br. 2"
   ]
  },
  {
   "cell_type": "markdown",
   "metadata": {},
   "source": [
    "### Koristite Open CV biblioteku u Pythonu i testirajte funkcije Blur,Canny, Contours. Pronađite slične funkcije u Open CV-u, uporedite i analizirajte rezultate. Da li je bitno preprocesiranje slika prije kompjuterskog procesiranja kod detekcije objekata ? Šta ste uočili kao bitnu razliku ?"
   ]
  },
  {
   "cell_type": "code",
   "execution_count": 28,
   "metadata": {},
   "outputs": [],
   "source": [
    "import cv2\n",
    "\n",
    "# Read image\n",
    "image = cv2.imread('coin.jpg')\n",
    "# Copy original image\n",
    "original_image = image.copy()\n",
    "\n",
    "# Show original image\n",
    "cv2.imshow(\"Original image\", image)\n",
    "cv2.waitKey(0)\n",
    "\n",
    "# Image preprocessing\n",
    "# Blur\n",
    "blurred = cv2.blur(image, (5, 5))\n",
    "\n",
    "cv2.imshow(\"Blurred image\", blurred)\n",
    "cv2.waitKey(0)\n",
    "cv2.imwrite(\"coin_blurred.jpg\", blurred)\n",
    "\n",
    "# Convert image color to gray\n",
    "gray_image = cv2.cvtColor(image, cv2.COLOR_BGR2GRAY)\n",
    "\n",
    "# Canny edge detection\n",
    "edges = cv2.Canny(gray_image, 100, 200)\n",
    "\n",
    "cv2.imshow(\"Image with detected edges\", edges)\n",
    "cv2.waitKey(0)\n",
    "cv2.imwrite(\"coin_edges.jpg\", edges)\n",
    "\n",
    "# Convert image to grayscale to find contours \n",
    "gray_image = cv2.cvtColor(image, cv2.COLOR_RGB2GRAY)\n",
    "_, threshold = cv2.threshold(gray_image, 240, 255, cv2.THRESH_BINARY)\n",
    "\n",
    "# Find contours\n",
    "contours, _ = cv2.findContours(threshold, cv2.RETR_TREE, cv2.CHAIN_APPROX_SIMPLE)\n",
    "# Draw contours\n",
    "cv2.drawContours(image, contours, -1, (0, 255, 0), 2)\n",
    "\n",
    "cv2.imshow(\"Image with contours\", image)\n",
    "cv2.waitKey(0)\n",
    "cv2.imwrite(\"coin_contours.jpg\", image)\n",
    "\n",
    "# OTHER FUNCTIONS\n",
    "\n",
    "# Image resizing\n",
    "scale_percent = 60\n",
    "width = int(image.shape[1] * scale_percent / 100)\n",
    "height = int(image.shape[0] * scale_percent / 100)\n",
    "dim = (width, height)\n",
    "resized_image = cv2.resize(original_image, dim, interpolation = cv2.INTER_AREA)\n",
    "\n",
    "cv2.imshow(\"Resized image\", resized_image)\n",
    "cv2.waitKey(0)\n",
    "cv2.imwrite(\"coin_resized.jpg\", resized_image)\n",
    "\n",
    "# Image rotating\n",
    "rows, cols = image.shape[:2]\n",
    "rotation_matrix = cv2.getRotationMatrix2D((cols / 2, rows / 2), 90, 1)\n",
    "rotated_image = cv2.warpAffine(original_image, rotation_matrix, (cols, rows))\n",
    "\n",
    "cv2.imshow(\"Rotated image\", rotated_image)\n",
    "cv2.waitKey(0)\n",
    "cv2.imwrite(\"coin_rotated.jpg\", rotated_image)\n",
    "\n",
    "# Image flipping\n",
    "flipped_image = cv2.flip(original_image, 0)\n",
    "\n",
    "cv2.imshow(\"Flipped image\", flipped_image)\n",
    "cv2.waitKey(0)\n",
    "cv2.imwrite(\"coin_flipped.jpg\", flipped_image)\n",
    "\n",
    "# Inverting image colors\n",
    "inverted_image = cv2.bitwise_not(original_image)\n",
    "\n",
    "cv2.imshow('Inverted image', inverted_image)\n",
    "cv2.waitKey(0)\n",
    "cv2.imwrite(\"coin_inverted.jpg\", inverted_image)\n",
    "\n",
    "cv2.destroyAllWindows()\n"
   ]
  },
  {
   "cell_type": "markdown",
   "metadata": {},
   "source": [
    "#### Zaključak"
   ]
  },
  {
   "cell_type": "markdown",
   "metadata": {},
   "source": [
    "##### Pretprocesiranje slika prije kompjuterskog procesiranja kod detekcije objekata je bitno jer se na taj način može postići da se postignu određena poboljšanja kod izvršavanja algoritama i detekcije objekata. Poboljšanja koja se mogu ostvariti su poboljšanje kvalitete slike, npr. kontrasta, osvjetljenja. Također, mogu se povećati brzina i efikasnost nekog algoritma, zbog prilagođavanja slika, kao npr. smanjenje rezolucije slike. Tačnost detekcije objekata se može povećati uslijed uklanjanja nepotrebnih informacija sa slike koji za rezultat imaju jasnije uočavanja željenih objekata.<br>Kao bitna razlika može se uočiti poboljšanje performansi algoritma, precizniji rezultati prilikom detekcije objekata i povećana sposobnost algoritma da bolje identifikuje i klasificira objekte na slikama. Efikasnost i rezultati ovise od vrste slike (npr. rezolucija, veličina, kvalitet) i vrste objekata koji se pokušavaju detektovati, kao i od odabranog algoritma za detekciju."
   ]
  }
 ],
 "metadata": {
  "kernelspec": {
   "display_name": "Python 3",
   "language": "python",
   "name": "python3"
  },
  "language_info": {
   "codemirror_mode": {
    "name": "ipython",
    "version": 3
   },
   "file_extension": ".py",
   "mimetype": "text/x-python",
   "name": "python",
   "nbconvert_exporter": "python",
   "pygments_lexer": "ipython3",
   "version": "3.10.0"
  }
 },
 "nbformat": 4,
 "nbformat_minor": 2
}
