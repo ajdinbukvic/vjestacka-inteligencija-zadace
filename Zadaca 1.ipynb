{
 "cells": [
  {
   "cell_type": "markdown",
   "metadata": {},
   "source": [
    "# Vještačka inteligencija - Vježbe 2 - Zadaća 1"
   ]
  },
  {
   "cell_type": "markdown",
   "metadata": {},
   "source": [
    "## Zadatak br. 1"
   ]
  },
  {
   "cell_type": "markdown",
   "metadata": {},
   "source": [
    "### Saberite dva broja i rezultat ispišite kao decimalni broj."
   ]
  },
  {
   "cell_type": "code",
   "execution_count": 4,
   "metadata": {},
   "outputs": [
    {
     "name": "stdout",
     "output_type": "stream",
     "text": [
      "Rezultat sabiranja brojeva 2.3 i 5.6 je: 7.9\n"
     ]
    }
   ],
   "source": [
    "prvi_broj = float(input(\"Unesite prvi broj: \"))\n",
    "drugi_broj = float(input(\"Unesite drugi broj: \"))\n",
    "rezultat = round(prvi_broj + drugi_broj, 2)\n",
    "print(f\"Rezultat sabiranja brojeva {prvi_broj} i {drugi_broj} je: {rezultat}\")"
   ]
  },
  {
   "cell_type": "markdown",
   "metadata": {},
   "source": [
    "## Zadatak br. 2"
   ]
  },
  {
   "cell_type": "markdown",
   "metadata": {},
   "source": [
    "### Omogućite unos realnog broja i ispitajte da li je broj negativan ili pozitivan."
   ]
  },
  {
   "cell_type": "code",
   "execution_count": 3,
   "metadata": {},
   "outputs": [
    {
     "name": "stdout",
     "output_type": "stream",
     "text": [
      "Broj 8.5 je pozitivan\n"
     ]
    }
   ],
   "source": [
    "broj = float(input(\"Unesite realan broj: \"))\n",
    "if broj > 0:\n",
    "  print(f\"Broj {broj} je pozitivan\")\n",
    "elif broj < 0:\n",
    "  print(f\"Broj {broj} je negativan\")\n",
    "else:\n",
    "  print(\"Broj je nula\")"
   ]
  },
  {
   "cell_type": "markdown",
   "metadata": {},
   "source": [
    "## Zadatak br. 3"
   ]
  },
  {
   "cell_type": "markdown",
   "metadata": {},
   "source": [
    "### Ispisati samo parne brojeve brojevnog niza od 10 brojeva."
   ]
  },
  {
   "cell_type": "code",
   "execution_count": 3,
   "metadata": {},
   "outputs": [
    {
     "name": "stdout",
     "output_type": "stream",
     "text": [
      "Broj 0 je paran\n",
      "Broj 2 je paran\n",
      "Broj 4 je paran\n",
      "Broj 6 je paran\n",
      "Broj 8 je paran\n",
      "------------------------------\n",
      "Broj 42 je paran\n",
      "Broj 58 je paran\n",
      "Broj 90 je paran\n",
      "Broj 12 je paran\n",
      "Broj 64 je paran\n"
     ]
    }
   ],
   "source": [
    "# Samo parni brojevi 0 - 10\n",
    "for i in range(10):\n",
    "  if i % 2 == 0:\n",
    "    print(f\"Broj {i} je paran\")\n",
    "print(\"------------------------------\")\n",
    "# Samo parni brojevi iz nekog niza\n",
    "niz = [23, 31, 42, 58, 90, 15, 7, 89, 12, 64]\n",
    "for i in niz:\n",
    "  if i % 2 == 0:\n",
    "    print(f\"Broj {i} je paran\")"
   ]
  },
  {
   "cell_type": "markdown",
   "metadata": {},
   "source": [
    "## Zadatak br. 4"
   ]
  },
  {
   "cell_type": "markdown",
   "metadata": {},
   "source": [
    "### Napraviti program koji će korisniku omogućiti pogađanje brojeva. Ako korisnik upiše bilo koji broj, izvršavati će se blok naredbi ispod while petlje. Ako odabere 0, dogodi se prekid programa. Prekid programa omogućiti sa naredbom break. Ako korisnik upiše tačan broj, ispiše se poruka o pogođenom broju i program se dalje izvršava. Ako korisnik napiše prevelik ili premali broj od traženog, ispisati odgovarajuću poruku korisniku i dalje izvršavati program, sve dok korisnik sam ne odabere opciju 0"
   ]
  },
  {
   "cell_type": "code",
   "execution_count": 4,
   "metadata": {},
   "outputs": [
    {
     "name": "stdout",
     "output_type": "stream",
     "text": [
      "Uneseni broj je veci od trazenog broja\n",
      "Uneseni broj je veci od trazenog broja\n",
      "Uneseni broj je veci od trazenog broja\n",
      "Pogodili ste trazeni broj sa ukupno 4 pokusaja\n",
      "Nastavite pogadjanje novog broja\n",
      "Kraj programa\n"
     ]
    }
   ],
   "source": [
    "import random\n",
    "slucajni_broj = random.randint(1, 10)\n",
    "broj_pokusaja = 0\n",
    "while True:\n",
    "  uneseni_broj = int(input(\"Unesite broj za pogadjanje: \"))\n",
    "  broj_pokusaja += 1\n",
    "  if uneseni_broj == 0:\n",
    "    print(\"Kraj programa\")\n",
    "    break\n",
    "  elif uneseni_broj == slucajni_broj:\n",
    "    print(f\"Pogodili ste trazeni broj sa ukupno {broj_pokusaja} pokusaja\")\n",
    "    print(\"Nastavite pogadjanje novog broja\")\n",
    "    slucajni_broj = random.randint(1, 10)\n",
    "    broj_pokusaja = 0\n",
    "  elif uneseni_broj > slucajni_broj:\n",
    "    print(\"Uneseni broj je veci od trazenog broja\")\n",
    "  else:\n",
    "    print(\"Uneseni broj je manji od trazenog broja\")"
   ]
  },
  {
   "cell_type": "markdown",
   "metadata": {},
   "source": [
    "## Zadatak br. 5"
   ]
  },
  {
   "cell_type": "markdown",
   "metadata": {},
   "source": [
    "### Kreirati klasu \"Osoba\" koja ima sljedeće atribute : ime,prezime,godina studija, te metodu prikaza slike. Svaki student unosi svoje podatke za testiranje i kreiranje instance."
   ]
  },
  {
   "cell_type": "code",
   "execution_count": 5,
   "metadata": {},
   "outputs": [
    {
     "name": "stdout",
     "output_type": "stream",
     "text": [
      "Ime: Ajdin\n",
      "Prezime: Bukvic\n",
      "Godina studija: 4\n"
     ]
    }
   ],
   "source": [
    "class Osoba:\n",
    "  def __init__(self, ime, prezime, godina_studija):\n",
    "    self.ime = ime\n",
    "    self.prezime = prezime\n",
    "    self.godina_studija = godina_studija\n",
    "\n",
    "  def prikazi_podatke(self):\n",
    "    print(f\"Ime: {self.ime}\")\n",
    "    print(f\"Prezime: {self.prezime}\")\n",
    "    print(f\"Godina studija: {self.godina_studija}\")\n",
    "\n",
    "student = Osoba(\"Ajdin\", \"Bukvic\", 4)\n",
    "student.prikazi_podatke()"
   ]
  }
 ],
 "metadata": {
  "kernelspec": {
   "display_name": "Python 3",
   "language": "python",
   "name": "python3"
  },
  "language_info": {
   "codemirror_mode": {
    "name": "ipython",
    "version": 3
   },
   "file_extension": ".py",
   "mimetype": "text/x-python",
   "name": "python",
   "nbconvert_exporter": "python",
   "pygments_lexer": "ipython3",
   "version": "3.10.0"
  }
 },
 "nbformat": 4,
 "nbformat_minor": 2
}
